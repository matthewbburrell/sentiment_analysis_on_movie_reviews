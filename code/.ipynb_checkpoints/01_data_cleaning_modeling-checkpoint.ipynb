{
 "cells": [
  {
   "cell_type": "code",
   "execution_count": 1,
   "id": "useful-standard",
   "metadata": {},
   "outputs": [],
   "source": [
    "import pandas as pd \n",
    "import script.functions as func\n",
    "import autoreload \n",
    "%load_ext autoreload\n",
    "%autoreload 2\n",
    "\n",
    "from sklearn.naive_bayes import MultinomialNB\n",
    "from sklearn.model_selection import train_test_split, GridSearchCV\n",
    "from sklearn.pipeline import Pipeline\n",
    "from sklearn.feature_extraction.text import TfidfVectorizer"
   ]
  },
  {
   "cell_type": "code",
   "execution_count": 3,
   "id": "forbidden-rebel",
   "metadata": {},
   "outputs": [],
   "source": [
    "#Import Data \n",
    "train = pd.read_csv('../data/train.tsv', delimiter='\\t')\n",
    "test = pd.read_csv('../data/test.tsv', delimiter='\\t')\n",
    "\n",
    "#Processs data (Please see function.py for description)\n",
    "train = func.text_processing(train)\n",
    "test = func.text_processing(test)\n",
    "\n",
    "#Save clean data \n",
    "train.to_csv('../data/clean_train.csv')\n",
    "test.to_csv('../data/clean_test.csv')"
   ]
  },
  {
   "cell_type": "markdown",
   "id": "liable-order",
   "metadata": {},
   "source": [
    "## Naive Bayes Classification"
   ]
  },
  {
   "cell_type": "code",
   "execution_count": 17,
   "id": "inclusive-transmission",
   "metadata": {},
   "outputs": [
    {
     "data": {
      "text/plain": [
       "{'tf__max_features': 4500, 'tf__ngram_range': (1, 3)}"
      ]
     },
     "execution_count": 17,
     "metadata": {},
     "output_type": "execute_result"
    }
   ],
   "source": [
    "X = train['Phrase']\n",
    "y = train['Sentiment']\n",
    "X_train, X_test, y_train, y_test = train_test_split(X,y, random_state=42)\n",
    "pipe = Pipeline([('tf', TfidfVectorizer()), ('nb', MultinomialNB())])\n",
    "pipe_params = {'tf__ngram_range': [(1,3)],\n",
    "              'tf__max_features': [4500]}\n",
    "gs = GridSearchCV(pipe, pipe_params, cv=5)\n",
    "gs.fit(X_train, y_train)\n",
    "gs.best_params_"
   ]
  },
  {
   "cell_type": "code",
   "execution_count": 18,
   "id": "alpine-poster",
   "metadata": {
    "scrolled": true
   },
   "outputs": [
    {
     "data": {
      "text/plain": [
       "0.5982490426934871"
      ]
     },
     "execution_count": 18,
     "metadata": {},
     "output_type": "execute_result"
    }
   ],
   "source": [
    "gs.score(X_train, y_train)"
   ]
  },
  {
   "cell_type": "code",
   "execution_count": 19,
   "id": "political-safety",
   "metadata": {},
   "outputs": [
    {
     "data": {
      "text/plain": [
       "0.5625834127740705"
      ]
     },
     "execution_count": 19,
     "metadata": {},
     "output_type": "execute_result"
    }
   ],
   "source": [
    "gs.score(X_test, y_test)"
   ]
  },
  {
   "cell_type": "markdown",
   "id": "delayed-distribution",
   "metadata": {},
   "source": [
    "## Neural Network Modeling"
   ]
  },
  {
   "cell_type": "code",
   "execution_count": null,
   "id": "previous-sector",
   "metadata": {},
   "outputs": [],
   "source": []
  }
 ],
 "metadata": {
  "kernelspec": {
   "display_name": "Python 3",
   "language": "python",
   "name": "python3"
  },
  "language_info": {
   "codemirror_mode": {
    "name": "ipython",
    "version": 3
   },
   "file_extension": ".py",
   "mimetype": "text/x-python",
   "name": "python",
   "nbconvert_exporter": "python",
   "pygments_lexer": "ipython3",
   "version": "3.7.7"
  }
 },
 "nbformat": 4,
 "nbformat_minor": 5
}
